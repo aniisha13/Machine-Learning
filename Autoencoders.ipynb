{
  "cells": [
    {
      "cell_type": "markdown",
      "metadata": {
        "id": "view-in-github",
        "colab_type": "text"
      },
      "source": [
        "<a href=\"https://colab.research.google.com/github/aniisha13/Machine-Learning/blob/main/Autoencoders.ipynb\" target=\"_parent\"><img src=\"https://colab.research.google.com/assets/colab-badge.svg\" alt=\"Open In Colab\"/></a>"
      ]
    },
    {
      "cell_type": "code",
      "source": [
        "# AutoEncoders in Deep Learning"
      ],
      "metadata": {
        "id": "dYmqX33jTWEU"
      },
      "execution_count": null,
      "outputs": []
    },
    {
      "cell_type": "code",
      "execution_count": null,
      "metadata": {
        "id": "WQl8TSiHSOCU"
      },
      "outputs": [],
      "source": [
        "from keras.layers import Input, Dense\n",
        "from keras.models import Model\n",
        "\n",
        "# this is the size of our encoded representations\n",
        "encoding_dim = 128  # 32 floats -> compression of factor 24.5, assuming the input is 784 floats\n",
        "\n",
        "# this is our input placeholder\n",
        "input_img = Input(shape=(784,))\n",
        "# \"encoded\" is the encoded representation of the input\n",
        "encoded = Dense(encoding_dim, activation='relu')(input_img)\n",
        "# \"decoded\" is the lossy reconstruction of the input\n",
        "decoded = Dense(784, activation='sigmoid')(encoded)\n",
        "\n",
        "# this model maps an input to its reconstruction\n",
        "autoencoder = Model(input_img, decoded)"
      ]
    },
    {
      "cell_type": "code",
      "execution_count": null,
      "metadata": {
        "id": "Gq173u9YSTvU"
      },
      "outputs": [],
      "source": [
        "# this model maps an input to its encoded representation\n",
        "encoder = Model(input_img, encoded)"
      ]
    },
    {
      "cell_type": "code",
      "execution_count": null,
      "metadata": {
        "id": "q3K4BB0VSbfD"
      },
      "outputs": [],
      "source": [
        "# create a placeholder for an encoded (32-dimensional) input\n",
        "encoded_input = Input(shape=(encoding_dim,))\n",
        "# retrieve the last layer of the autoencoder model\n",
        "decoder_layer = autoencoder.layers[-1]\n",
        "# create the decoder model\n",
        "decoder = Model(encoded_input, decoder_layer(encoded_input))"
      ]
    },
    {
      "cell_type": "code",
      "execution_count": null,
      "metadata": {
        "id": "txJYhPm1SfLq"
      },
      "outputs": [],
      "source": [
        "autoencoder.compile(optimizer='RMSprop', loss='binary_crossentropy')"
      ]
    },
    {
      "cell_type": "code",
      "execution_count": null,
      "metadata": {
        "id": "ox4PzfObSiQd",
        "colab": {
          "base_uri": "https://localhost:8080/"
        },
        "outputId": "33aa8660-2e34-4b19-9e40-4df100c08df5"
      },
      "outputs": [
        {
          "output_type": "stream",
          "name": "stdout",
          "text": [
            "Downloading data from https://storage.googleapis.com/tensorflow/tf-keras-datasets/mnist.npz\n",
            "11490434/11490434 [==============================] - 0s 0us/step\n"
          ]
        }
      ],
      "source": [
        "from keras.datasets import mnist\n",
        "import numpy as np\n",
        "(x_train, _), (x_test, _) = mnist.load_data()"
      ]
    },
    {
      "cell_type": "code",
      "execution_count": null,
      "metadata": {
        "colab": {
          "base_uri": "https://localhost:8080/"
        },
        "id": "5riYiwmoSlDz",
        "outputId": "3ef4c0b1-928c-4376-f41f-3a1b15a51c32"
      },
      "outputs": [
        {
          "output_type": "stream",
          "name": "stdout",
          "text": [
            "(60000, 784)\n",
            "(10000, 784)\n"
          ]
        }
      ],
      "source": [
        "x_train = x_train.astype('float32') / 255.\n",
        "x_test = x_test.astype('float32') / 255.\n",
        "x_train = x_train.reshape((len(x_train), np.prod(x_train.shape[1:])))\n",
        "x_test = x_test.reshape((len(x_test), np.prod(x_test.shape[1:])))\n",
        "print (x_train.shape)\n",
        "print (x_test.shape)"
      ]
    },
    {
      "cell_type": "code",
      "execution_count": null,
      "metadata": {
        "colab": {
          "base_uri": "https://localhost:8080/"
        },
        "id": "zzkP2dNISsfq",
        "outputId": "64c7ed4c-65a9-4fa5-df33-f7061736980b"
      },
      "outputs": [
        {
          "output_type": "stream",
          "name": "stdout",
          "text": [
            "Epoch 1/68\n",
            "235/235 [==============================] - 11s 44ms/step - loss: 0.2726 - val_loss: 0.2062\n",
            "Epoch 2/68\n",
            "235/235 [==============================] - 7s 30ms/step - loss: 0.1867 - val_loss: 0.1694\n",
            "Epoch 3/68\n",
            "235/235 [==============================] - 7s 29ms/step - loss: 0.1599 - val_loss: 0.1491\n",
            "Epoch 4/68\n",
            "235/235 [==============================] - 7s 30ms/step - loss: 0.1433 - val_loss: 0.1353\n",
            "Epoch 5/68\n",
            "235/235 [==============================] - 5s 23ms/step - loss: 0.1316 - val_loss: 0.1255\n",
            "Epoch 6/68\n",
            "235/235 [==============================] - 4s 18ms/step - loss: 0.1225 - val_loss: 0.1170\n",
            "Epoch 7/68\n",
            "235/235 [==============================] - 3s 14ms/step - loss: 0.1150 - val_loss: 0.1104\n",
            "Epoch 8/68\n",
            "235/235 [==============================] - 3s 14ms/step - loss: 0.1090 - val_loss: 0.1049\n",
            "Epoch 9/68\n",
            "235/235 [==============================] - 5s 19ms/step - loss: 0.1040 - val_loss: 0.1006\n",
            "Epoch 10/68\n",
            "235/235 [==============================] - 3s 15ms/step - loss: 0.1000 - val_loss: 0.0970\n",
            "Epoch 11/68\n",
            "235/235 [==============================] - 3s 14ms/step - loss: 0.0968 - val_loss: 0.0941\n",
            "Epoch 12/68\n",
            "235/235 [==============================] - 3s 14ms/step - loss: 0.0942 - val_loss: 0.0919\n",
            "Epoch 13/68\n",
            "235/235 [==============================] - 5s 21ms/step - loss: 0.0921 - val_loss: 0.0902\n",
            "Epoch 14/68\n",
            "235/235 [==============================] - 3s 14ms/step - loss: 0.0903 - val_loss: 0.0883\n",
            "Epoch 15/68\n",
            "235/235 [==============================] - 3s 14ms/step - loss: 0.0887 - val_loss: 0.0869\n",
            "Epoch 16/68\n",
            "235/235 [==============================] - 4s 16ms/step - loss: 0.0874 - val_loss: 0.0857\n",
            "Epoch 17/68\n",
            "235/235 [==============================] - 4s 19ms/step - loss: 0.0862 - val_loss: 0.0847\n",
            "Epoch 18/68\n",
            "235/235 [==============================] - 3s 14ms/step - loss: 0.0852 - val_loss: 0.0837\n",
            "Epoch 19/68\n",
            "235/235 [==============================] - 3s 14ms/step - loss: 0.0843 - val_loss: 0.0828\n",
            "Epoch 20/68\n",
            "235/235 [==============================] - 5s 19ms/step - loss: 0.0834 - val_loss: 0.0821\n",
            "Epoch 21/68\n",
            "235/235 [==============================] - 4s 15ms/step - loss: 0.0827 - val_loss: 0.0814\n",
            "Epoch 22/68\n",
            "235/235 [==============================] - 3s 14ms/step - loss: 0.0820 - val_loss: 0.0807\n",
            "Epoch 23/68\n",
            " 78/235 [========>.....................] - ETA: 2s - loss: 0.0814"
          ]
        }
      ],
      "source": [
        "autoencoder.fit(x_train, x_train,\n",
        "                epochs=68,\n",
        "                batch_size=256,\n",
        "                shuffle=True,\n",
        "                validation_data=(x_test, x_test))"
      ]
    },
    {
      "cell_type": "code",
      "execution_count": null,
      "metadata": {
        "id": "OUr7fRVwSwHY"
      },
      "outputs": [],
      "source": [
        "# encode and decode some digits\n",
        "# note that we take them from the *test* set\n",
        "encoded_imgs = encoder.predict(x_test)\n",
        "decoded_imgs = decoder.predict(encoded_imgs)"
      ]
    },
    {
      "cell_type": "code",
      "execution_count": null,
      "metadata": {
        "id": "HqkoJw8xSzH1"
      },
      "outputs": [],
      "source": [
        "# use Matplotlib (don't ask)\n",
        "import matplotlib.pyplot as plt\n",
        "\n",
        "n = 10  # how many digits we will display\n",
        "plt.figure(figsize=(20, 4))\n",
        "for i in range(n):\n",
        "    # display original\n",
        "    ax = plt.subplot(2, n, i + 1)\n",
        "    plt.imshow(x_test[i].reshape(28, 28))\n",
        "    plt.gray()\n",
        "    ax.get_xaxis().set_visible(False)\n",
        "    ax.get_yaxis().set_visible(False)\n",
        "\n",
        "    # display reconstruction\n",
        "    ax = plt.subplot(2, n, i + 1 + n)\n",
        "    plt.imshow(decoded_imgs[i].reshape(28, 28))\n",
        "    plt.gray()\n",
        "    ax.get_xaxis().set_visible(False)\n",
        "    ax.get_yaxis().set_visible(False)\n",
        "plt.show()"
      ]
    },
    {
      "cell_type": "code",
      "execution_count": null,
      "metadata": {
        "id": "ODd0yFC1bl7l"
      },
      "outputs": [],
      "source": [
        "from keras.layers import Input, Dense\n",
        "from keras.models import Model\n",
        "\n",
        "# Define the size of the encoded representation\n",
        "encoding_dim = 32  # 32 floats -> compression of factor 24.5, assuming the input is 784 floats\n",
        "\n",
        "# Input placeholder\n",
        "input_img = Input(shape=(784,))\n",
        "\n",
        "# Encoding layers\n",
        "encoded = Dense(128, activation='relu')(input_img)\n",
        "encoded = Dense(64, activation='relu')(encoded)\n",
        "encoded = Dense(encoding_dim, activation='relu')(encoded)\n",
        "\n",
        "# Decoding layers\n",
        "decoded = Dense(64, activation='relu')(encoded)\n",
        "decoded = Dense(128, activation='relu')(decoded)\n",
        "decoded = Dense(784, activation='sigmoid')(decoded)\n",
        "\n",
        "# Autoencoder model\n",
        "autoencoder = Model(input_img, decoded)\n",
        "\n",
        "# Encoder model\n",
        "encoder = Model(input_img, encoded)\n",
        "\n",
        "# Decoder model\n",
        "encoded_input = Input(shape=(encoding_dim,))\n",
        "decoder_layer1 = autoencoder.layers[-3]\n",
        "decoder_layer2 = autoencoder.layers[-2]\n",
        "decoder_layer3 = autoencoder.layers[-1]\n",
        "decoder = Model(encoded_input, decoder_layer3(decoder_layer2(decoder_layer1(encoded_input))))\n"
      ]
    },
    {
      "cell_type": "code",
      "execution_count": null,
      "metadata": {
        "id": "pedaPEaRcAic"
      },
      "outputs": [],
      "source": [
        "# Compile the model\n",
        "autoencoder.compile(optimizer='adam', loss='binary_crossentropy')\n",
        "\n",
        "# Train the model\n",
        "autoencoder.fit(x_train, x_train,\n",
        "                epochs=50,\n",
        "                batch_size=256,\n",
        "                shuffle=True,\n",
        "                validation_data=(x_test, x_test))\n",
        "\n"
      ]
    },
    {
      "cell_type": "code",
      "execution_count": null,
      "metadata": {
        "id": "NKK5C_rlcNDl"
      },
      "outputs": [],
      "source": [
        "# encode and decode some digits\n",
        "# note that we take them from the *test* set\n",
        "encoded_imgs = encoder.predict(x_test)\n",
        "decoded_imgs = decoder.predict(encoded_imgs)"
      ]
    },
    {
      "cell_type": "code",
      "execution_count": null,
      "metadata": {
        "id": "ZQA_n46BcI47"
      },
      "outputs": [],
      "source": [
        "# use Matplotlib (don't ask)\n",
        "import matplotlib.pyplot as plt\n",
        "\n",
        "n = 10  # how many digits we will display\n",
        "plt.figure(figsize=(20, 4))\n",
        "for i in range(n):\n",
        "    # display original\n",
        "    ax = plt.subplot(2, n, i + 1)\n",
        "    plt.imshow(x_test[i].reshape(28, 28))\n",
        "    plt.gray()\n",
        "    ax.get_xaxis().set_visible(False)\n",
        "    ax.get_yaxis().set_visible(False)\n",
        "\n",
        "    # display reconstruction\n",
        "    ax = plt.subplot(2, n, i + 1 + n)\n",
        "    plt.imshow(decoded_imgs[i].reshape(28, 28))\n",
        "    plt.gray()\n",
        "    ax.get_xaxis().set_visible(False)\n",
        "    ax.get_yaxis().set_visible(False)\n",
        "plt.show()"
      ]
    },
    {
      "cell_type": "code",
      "source": [],
      "metadata": {
        "id": "4NX00fyfDJ2-"
      },
      "execution_count": null,
      "outputs": []
    }
  ],
  "metadata": {
    "colab": {
      "provenance": [],
      "include_colab_link": true
    },
    "kernelspec": {
      "display_name": "Python 3",
      "name": "python3"
    }
  },
  "nbformat": 4,
  "nbformat_minor": 0
}