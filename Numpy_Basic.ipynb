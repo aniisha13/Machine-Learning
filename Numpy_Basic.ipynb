{
  "nbformat": 4,
  "nbformat_minor": 0,
  "metadata": {
    "colab": {
      "provenance": [],
      "include_colab_link": true
    },
    "kernelspec": {
      "name": "python3",
      "display_name": "Python 3"
    },
    "language_info": {
      "name": "python"
    }
  },
  "cells": [
    {
      "cell_type": "markdown",
      "metadata": {
        "id": "view-in-github",
        "colab_type": "text"
      },
      "source": [
        "<a href=\"https://colab.research.google.com/github/aniisha13/Machine-Learning/blob/main/Numpy_Basic.ipynb\" target=\"_parent\"><img src=\"https://colab.research.google.com/assets/colab-badge.svg\" alt=\"Open In Colab\"/></a>"
      ]
    },
    {
      "cell_type": "code",
      "execution_count": 1,
      "metadata": {
        "id": "B0f03lJm2fhn"
      },
      "outputs": [],
      "source": [
        "import numpy as np"
      ]
    },
    {
      "cell_type": "markdown",
      "source": [
        "Creating a numpy array from python list."
      ],
      "metadata": {
        "id": "6pqv_Aza3F7n"
      }
    },
    {
      "cell_type": "code",
      "source": [
        "l = [1,2,3,4,5,6,7,8]\n",
        "arr = np.array(l)\n",
        "print(\"List: \", l)\n",
        "print(\"Array: \",arr)\n",
        "print()\n",
        "print(type(arr))"
      ],
      "metadata": {
        "colab": {
          "base_uri": "https://localhost:8080/"
        },
        "id": "wjFrXMTP2yEh",
        "outputId": "995f7056-b585-48ad-80db-a62d293de595"
      },
      "execution_count": 2,
      "outputs": [
        {
          "output_type": "stream",
          "name": "stdout",
          "text": [
            "List:  [1, 2, 3, 4, 5, 6, 7, 8]\n",
            "Array:  [1 2 3 4 5 6 7 8]\n",
            "\n",
            "<class 'numpy.ndarray'>\n"
          ]
        }
      ]
    },
    {
      "cell_type": "markdown",
      "source": [
        "Having just few string elements in the python list, the numpy ndarray converts the whole list in the form of a string and didn't gave any error"
      ],
      "metadata": {
        "id": "WU7ZPVWR3QnI"
      }
    },
    {
      "cell_type": "code",
      "source": [
        "ls = [1,4,\"String\", 1.304903,\"float\"]\n",
        "arr = np.array(ls)\n",
        "print(\"List: \", ls)\n",
        "print(\"Array: \", arr)"
      ],
      "metadata": {
        "colab": {
          "base_uri": "https://localhost:8080/"
        },
        "id": "-ea4z5Ho2_CX",
        "outputId": "01a4cb1e-6dd2-43c9-aff0-2e03756cf103"
      },
      "execution_count": 3,
      "outputs": [
        {
          "output_type": "stream",
          "name": "stdout",
          "text": [
            "List:  [1, 4, 'String', 1.304903, 'float']\n",
            "Array:  ['1' '4' 'String' '1.304903' 'float']\n"
          ]
        }
      ]
    },
    {
      "cell_type": "code",
      "source": [
        "# performing addition in numpy arrays: either both should be of equal size otherwise\n",
        "# there should be just one element in one of the array in order to perform broadcasting.\n",
        "\n",
        "a = np.array([1,2,4,5,6])\n",
        "b = np.array([23,39,29,59,2])\n",
        "c = np.array([10])\n",
        "\n",
        "print(\"Sum of a and b is: \", a+b)\n",
        "print(\"Sum of a and c is: \", a+c)"
      ],
      "metadata": {
        "colab": {
          "base_uri": "https://localhost:8080/"
        },
        "id": "Ff78I2Rm3xd3",
        "outputId": "9cde3fdc-4165-4e70-8958-58e91cf142ba"
      },
      "execution_count": 4,
      "outputs": [
        {
          "output_type": "stream",
          "name": "stdout",
          "text": [
            "Sum of a and b is:  [24 41 33 64  8]\n",
            "Sum of a and c is:  [11 12 14 15 16]\n"
          ]
        }
      ]
    },
    {
      "cell_type": "code",
      "source": [
        "# performing dot product of two arrays\n",
        "\n",
        "arr1 = np.array([1,2,3,4,5])\n",
        "arr2 = np.array([9,1,59,39,4])\n",
        "\n",
        "print(\"Dot Product of arr1 and arr2 is: \", np.dot(arr1,arr2))"
      ],
      "metadata": {
        "colab": {
          "base_uri": "https://localhost:8080/"
        },
        "id": "kqyTzVOo4ytZ",
        "outputId": "b76b50f6-a6e9-4055-854c-4a5b4a1f1b86"
      },
      "execution_count": 5,
      "outputs": [
        {
          "output_type": "stream",
          "name": "stdout",
          "text": [
            "Dot Product of arr1 and arr2 is:  364\n"
          ]
        }
      ]
    },
    {
      "cell_type": "code",
      "source": [
        "# Performance Determination of arrays and python by memory usage\n",
        "import sys\n",
        "l = [1,2,3,4,5,6]\n",
        "a = np.array(l)\n",
        "\n",
        "print(\"Memory Usage for list is: \", sys.getsizeof(l))\n",
        "print(\"Memory Usage for array is: \", a.nbytes)"
      ],
      "metadata": {
        "colab": {
          "base_uri": "https://localhost:8080/"
        },
        "id": "EsFJa78v5qOg",
        "outputId": "b5f61015-31c3-40a7-8567-15aa62c3a32b"
      },
      "execution_count": 6,
      "outputs": [
        {
          "output_type": "stream",
          "name": "stdout",
          "text": [
            "Memory Usage for list is:  104\n",
            "Memory Usage for array is:  48\n"
          ]
        }
      ]
    },
    {
      "cell_type": "code",
      "source": [
        "# creating np array from python lists and tuples\n",
        "\n",
        "list1 = [1,2,3,4,5,6]\n",
        "tuple1 = (1,2,3,4,5,6)\n",
        "\n",
        "arr1 = np.array(list1)\n",
        "arr2 = np.array(tuple1)\n",
        "\n",
        "print(\"Array from list: \", arr1)\n",
        "print(\"Array from tuple: \", arr2)"
      ],
      "metadata": {
        "colab": {
          "base_uri": "https://localhost:8080/"
        },
        "id": "u6Ozos6H6ZB5",
        "outputId": "6059ab76-8825-4e2f-ca34-0b3ff60aafd7"
      },
      "execution_count": 7,
      "outputs": [
        {
          "output_type": "stream",
          "name": "stdout",
          "text": [
            "Array from list:  [1 2 3 4 5 6]\n",
            "Array from tuple:  [1 2 3 4 5 6]\n"
          ]
        }
      ]
    },
    {
      "cell_type": "code",
      "source": [
        "# creating a higher dimesional array from list which can be done by just nesting the lists\n",
        "\n",
        "nested_list = [[1,2,3,4],[5,6,7,8],[9,10,11,12],[13,14,15,16]]\n",
        "\n",
        "array = np.array(nested_list)\n",
        "print(\"2-D array is: \")\n",
        "print(array)"
      ],
      "metadata": {
        "colab": {
          "base_uri": "https://localhost:8080/"
        },
        "id": "aCSFRwqJ9EFZ",
        "outputId": "efdac26c-1368-4c8a-e5b4-3b0937c0de6f"
      },
      "execution_count": 8,
      "outputs": [
        {
          "output_type": "stream",
          "name": "stdout",
          "text": [
            "2-D array is: \n",
            "[[ 1  2  3  4]\n",
            " [ 5  6  7  8]\n",
            " [ 9 10 11 12]\n",
            " [13 14 15 16]]\n"
          ]
        }
      ]
    },
    {
      "cell_type": "code",
      "source": [
        "# creating higher dimensional arrays using array creation functions\n",
        "\n",
        "# 1-d array\n",
        "\n",
        "array = np.arange(2,20,0.5,dtype=float)\n",
        "print(array)"
      ],
      "metadata": {
        "colab": {
          "base_uri": "https://localhost:8080/"
        },
        "id": "pGguAOm-_hjS",
        "outputId": "3bc6396f-569f-4862-d025-85f086e99cc3"
      },
      "execution_count": 9,
      "outputs": [
        {
          "output_type": "stream",
          "name": "stdout",
          "text": [
            "[ 2.   2.5  3.   3.5  4.   4.5  5.   5.5  6.   6.5  7.   7.5  8.   8.5\n",
            "  9.   9.5 10.  10.5 11.  11.5 12.  12.5 13.  13.5 14.  14.5 15.  15.5\n",
            " 16.  16.5 17.  17.5 18.  18.5 19.  19.5]\n"
          ]
        }
      ]
    },
    {
      "cell_type": "code",
      "source": [
        "# np.linspace enables you get evenly spaced data points between a range.\n",
        "\n",
        "array = np.linspace(2,3,num=5)\n",
        "print(array)"
      ],
      "metadata": {
        "colab": {
          "base_uri": "https://localhost:8080/"
        },
        "id": "Ga50qW8_AtHg",
        "outputId": "f3d2282b-43a1-43d9-81f7-3f1d52066f7e"
      },
      "execution_count": 10,
      "outputs": [
        {
          "output_type": "stream",
          "name": "stdout",
          "text": [
            "[2.   2.25 2.5  2.75 3.  ]\n"
          ]
        }
      ]
    },
    {
      "cell_type": "code",
      "source": [
        "# 2-D array\n",
        "np.eye(4,4) # diagonal matrix with diagonal elements one and rest 0"
      ],
      "metadata": {
        "colab": {
          "base_uri": "https://localhost:8080/"
        },
        "id": "6FZL5ykWBUgp",
        "outputId": "49ef15c1-e607-4ffd-cba1-dd16cd08c5b8"
      },
      "execution_count": 11,
      "outputs": [
        {
          "output_type": "execute_result",
          "data": {
            "text/plain": [
              "array([[1., 0., 0., 0.],\n",
              "       [0., 1., 0., 0.],\n",
              "       [0., 0., 1., 0.],\n",
              "       [0., 0., 0., 1.]])"
            ]
          },
          "metadata": {},
          "execution_count": 11
        }
      ]
    },
    {
      "cell_type": "code",
      "source": [
        "# 3-d arrays\n",
        "np.zeros((4,4))"
      ],
      "metadata": {
        "colab": {
          "base_uri": "https://localhost:8080/"
        },
        "id": "rEWAgafVB7zZ",
        "outputId": "21f82de5-9710-45b9-89de-1f134fa6a528"
      },
      "execution_count": 12,
      "outputs": [
        {
          "output_type": "execute_result",
          "data": {
            "text/plain": [
              "array([[0., 0., 0., 0.],\n",
              "       [0., 0., 0., 0.],\n",
              "       [0., 0., 0., 0.],\n",
              "       [0., 0., 0., 0.]])"
            ]
          },
          "metadata": {},
          "execution_count": 12
        }
      ]
    },
    {
      "cell_type": "code",
      "source": [
        "np.ones((5,9))"
      ],
      "metadata": {
        "colab": {
          "base_uri": "https://localhost:8080/"
        },
        "id": "RkwSs1cWCPsJ",
        "outputId": "66ae3dd9-b92f-44e7-e95a-fd695dd39831"
      },
      "execution_count": 13,
      "outputs": [
        {
          "output_type": "execute_result",
          "data": {
            "text/plain": [
              "array([[1., 1., 1., 1., 1., 1., 1., 1., 1.],\n",
              "       [1., 1., 1., 1., 1., 1., 1., 1., 1.],\n",
              "       [1., 1., 1., 1., 1., 1., 1., 1., 1.],\n",
              "       [1., 1., 1., 1., 1., 1., 1., 1., 1.],\n",
              "       [1., 1., 1., 1., 1., 1., 1., 1., 1.]])"
            ]
          },
          "metadata": {},
          "execution_count": 13
        }
      ]
    },
    {
      "cell_type": "code",
      "source": [
        "np.empty([3,3], dtype=int) # gives uninitialised list with random data"
      ],
      "metadata": {
        "colab": {
          "base_uri": "https://localhost:8080/"
        },
        "id": "wUVgnmQpCbup",
        "outputId": "639edc01-ebf7-4662-f3de-2263e452d9a0"
      },
      "execution_count": 14,
      "outputs": [
        {
          "output_type": "execute_result",
          "data": {
            "text/plain": [
              "array([[99155063012973,              0,              0],\n",
              "       [             0,              0,              0],\n",
              "       [             0,              0,              0]])"
            ]
          },
          "metadata": {},
          "execution_count": 14
        }
      ]
    },
    {
      "cell_type": "code",
      "source": [],
      "metadata": {
        "id": "mXrXmJxDCnNx"
      },
      "execution_count": null,
      "outputs": []
    }
  ]
}